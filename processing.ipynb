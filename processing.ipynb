{
 "cells": [
  {
   "cell_type": "markdown",
   "metadata": {},
   "source": [
    "# Table of contents\n",
    "1. [Settings](#settings)\n",
    "2. [Download](#download)\n",
    "3. [Preprocessing](#pre)\n",
    "4. [Heat demand time series](#demand)\n",
    "5. [COP time series](#cop)\n",
    "6. [Writing](#write)"
   ]
  },
  {
   "cell_type": "markdown",
   "metadata": {},
   "source": [
    "<a id=settings></a>\n",
    "# 1. Settings"
   ]
  },
  {
   "cell_type": "markdown",
   "metadata": {},
   "source": [
    "## Setup\n",
    "I recommend running this notebook in a [conda environment, which can be created from the environment.yml file](https://conda.io/docs/user-guide/tasks/manage-environments.html#creating-an-environment-from-an-environment-yml-file) provided with this notebook."
   ]
  },
  {
   "cell_type": "markdown",
   "metadata": {},
   "source": [
    "## Import Python libraries"
   ]
  },
  {
   "cell_type": "code",
   "execution_count": 3,
   "metadata": {},
   "outputs": [],
   "source": [
    "# Python modules\n",
    "import os\n",
    "import shutil\n",
    "import pandas as pd\n",
    "from time import time\n",
    "from datetime import date\n",
    "\n",
    "# Custom scripts\n",
    "import scripts.download as download \n",
    "import scripts.read as read\n",
    "import scripts.preprocess as preprocess\n",
    "import scripts.demand as demand\n",
    "import scripts.cop as cop\n",
    "import scripts.write as write\n",
    "import scripts.metadata as metadata\n",
    "\n",
    "%load_ext autoreload\n",
    "%autoreload 2\n",
    "%matplotlib inline"
   ]
  },
  {
   "cell_type": "markdown",
   "metadata": {},
   "source": [
    "## Version and changes"
   ]
  },
  {
   "cell_type": "code",
   "execution_count": 4,
   "metadata": {},
   "outputs": [],
   "source": [
    "version = '2019-08-06'\n",
    "changes = 'Minor revisions'"
   ]
  },
  {
   "cell_type": "markdown",
   "metadata": {},
   "source": [
    "## Make directories"
   ]
  },
  {
   "cell_type": "code",
   "execution_count": 5,
   "metadata": {},
   "outputs": [],
   "source": [
    "home_path = os.path.realpath('.')\n",
    "\n",
    "input_path = os.path.join(home_path, 'input')\n",
    "interim_path = os.path.join(home_path, 'interim')\n",
    "output_path = os.path.join(home_path, 'output', version)\n",
    "\n",
    "for path in [input_path, interim_path, output_path]:\n",
    "    os.makedirs(path, exist_ok=True)"
   ]
  },
  {
   "cell_type": "markdown",
   "metadata": {},
   "source": [
    "## Select geographical and temporal scope"
   ]
  },
  {
   "cell_type": "code",
   "execution_count": 6,
   "metadata": {},
   "outputs": [],
   "source": [
    "all_countries = ['AT', 'BE'] # available\n",
    "regions = read.shapes(input_path)\n",
    "regions = regions.loc[regions.country_code.isin(all_countries)]"
   ]
  },
  {
   "cell_type": "code",
   "execution_count": 7,
   "metadata": {},
   "outputs": [],
   "source": [
    "year_start = 2008\n",
    "year_end = 2009"
   ]
  },
  {
   "cell_type": "markdown",
   "metadata": {},
   "source": [
    "## Set ECMWF access key\n",
    "In the following, this notebook downloads weather data from the ECMWF server. For accessing this server, follow the steps below:\n",
    "1.  Register at https://apps.ecmwf.int/registration/.\n",
    "2.  Login at https://apps.ecmwf.int/auth/login/.\n",
    "3.  Retrieve your key at https://api.ecmwf.int/v1/key/.\n",
    "4.  Enter your key and your e-mail below.\n",
    "\n",
    "If you have already [installed](https://confluence.ecmwf.int/display/WEBAPI/Access+ECMWF+Public+Datasets#AccessECMWFPublicDatasets-key) your ECMWF KEY, this step is skipped."
   ]
  },
  {
   "cell_type": "markdown",
   "metadata": {},
   "source": [
    "<a id=download></a>\n",
    "# 2. Download\n",
    "In the following, weather and population data is downloaded from the respective sources. For all years and countries, this takes around 45 minutes to run.\n",
    "\n",
    "Note that standard load profile parameters from [BGW](http://www.gwb-netz.de/wa_files/05_bgw_leitfaden_lastprofile_56550.pdf)/[BDEW](https://www.enwg-veroeffentlichungen.de/badtoelz/Netze/Gasnetz/Netzbeschreibung/LF-Abwicklung-von-Standardlastprofilen-Gas-20110630-final.pdf) and energy statistics from the [EU Builidng Database](http://ec.europa.eu/energy/en/eu-buildings-database) are already provided with this notebook in the input directory."
   ]
  },
  {
   "cell_type": "markdown",
   "metadata": {},
   "source": [
    "## Weather data\n",
    "As mentioned above, weather data is downloaded from ECMWF, more specifically form the [ERA-Interim](https://www.ecmwf.int/en/research/climate-reanalysis/era-interim) archive. The following data is retrieved:\n",
    "* Wind: wind speed at 10 m above ground for heating seasons (October-April) in 1979-2016 in monthly resolution \n",
    "* Temperature: ambient air temperature at 2 m above ground for the selected years in six-hourly resolution \n",
    "\n",
    "All data is downloaded for the whole of Europe. If some data already exists on your computer, this data will be skipped in the download process."
   ]
  },
  {
   "cell_type": "code",
   "execution_count": 12,
   "metadata": {
    "scrolled": true
   },
   "outputs": [
    {
     "name": "stdout",
     "output_type": "stream",
     "text": [
      "2020-04-03 16:07:07 ECMWF API python library 1.4.2\n",
      "2020-04-03 16:07:07 ECMWF API at https://api.ecmwf.int/v1\n",
      "2020-04-03 16:07:08 Welcome Francesco Lombardi\n",
      "2020-04-03 16:07:09 In case of problems, please check https://confluence.ecmwf.int/display/WEBAPI/Web+API+FAQ or contact servicedesk@ecmwf.int\n",
      "2020-04-03 16:07:09 Request submitted\n",
      "2020-04-03 16:07:09 Request id: 5e87511dffde1cabf110cbe5\n",
      "2020-04-03 16:07:09 Request is submitted\n",
      "2020-04-03 16:07:10 Request is queued\n",
      "Calling 'nice mars /tmp/08/54/tmp-_marstXeXy9.req'\n",
      "mars - WARN -\n",
      "mars - WARN - From 29 January 2019 10AM (UTC) MARS uses the interpolation\n",
      "mars - WARN - provided by the MIR library. For more details, see\n",
      "mars - WARN - https://confluence.ecmwf.int/display/UDOC/MARS+interpolation+with+MIR\n",
      "mars - WARN -\n",
      "PPDIR is /var/tmp/ppdir/x86_64\n",
      "mars - INFO   - 20200403.150730 - Welcome to MARS\n",
      "mars - INFO   - 20200403.150730 - MARS Client bundle version: 6.27.7.1\n",
      "mars - INFO   - 20200403.150730 - MARS Client package version: 6.27.7\n",
      "mars - INFO   - 20200403.150730 - MARS Client build stamp: 20200203131623\n",
      "mars - INFO   - 20200403.150730 - MIR version: 1.4.4\n",
      "mars - INFO   - 20200403.150730 - Using ecCodes version 2.16.0\n",
      "mars - INFO   - 20200403.150730 - Using odb_api version: 0.15.11 (file format version: 0.5)\n",
      "mars - INFO   - 20200403.150730 - Using FDB5 version: 5.5.8\n",
      "mars - INFO   - 20200403.150730 - Maximum retrieval size is 30.00 G\n",
      "retrieve,stream=mnth,area=72/-10.5/36.75/25.5,levtype=sfc,param=207.128,padding=0,step=0,grid=0.75/0.75,expver=0001,time=00:00:00/06:00:00/12:00:00/18:00:00,date=19791001/19791101/19791201/19790101/19790201/19790301/19790401/19801001/19801101/19801201/19800101/19800201/19800301/19800401/19811001/19811101/19811201/19810101/19810201/19810301/19810401/19821001/19821101/19821201/19820101/19820201/19820301/19820401/19831001/19831101/19831201/19830101/19830201/19830301/19830401/19841001/19841101/19841201/19840101/19840201/19840301/19840401/19851001/19851101/19851201/19850101/19850201/19850301/19850401/19861001/19861101/19861201/19860101/19860201/19860301/19860401/19871001/19871101/19871201/19870101/19870201/19870301/19870401/19881001/19881101/19881201/19880101/19880201/19880301/19880401/19891001/19891101/19891201/19890101/19890201/19890301/19890401/19901001/19901101/19901201/19900101/19900201/19900301/19900401/19911001/19911101/19911201/19910101/19910201/19910301/19910401/19921001/19921101/19921201/19920101/19920201/19920301/19920401/19931001/19931101/19931201/19930101/19930201/19930301/19930401/19941001/19941101/19941201/19940101/19940201/19940301/19940401/19951001/19951101/19951201/19950101/19950201/19950301/19950401/19961001/19961101/19961201/19960101/19960201/19960301/19960401/19971001/19971101/19971201/19970101/19970201/19970301/19970401/19981001/19981101/19981201/19980101/19980201/19980301/19980401/19991001/19991101/19991201/19990101/19990201/19990301/19990401/20001001/20001101/20001201/20000101/20000201/20000301/20000401/20011001/20011101/20011201/20010101/20010201/20010301/20010401/20021001/20021101/20021201/20020101/20020201/20020301/20020401/20031001/20031101/20031201/20030101/20030201/20030301/20030401/20041001/20041101/20041201/20040101/20040201/20040301/20040401/20051001/20051101/20051201/20050101/20050201/20050301/20050401/20061001/20061101/20061201/20060101/20060201/20060301/20060401/20071001/20071101/20071201/20070101/20070201/20070301/20070401/20081001/20081101/20081201/20080101/20080201/20080301/20080401/20091001/20091101/20091201/20090101/20090201/20090301/20090401/20101001/20101101/20101201/20100101/20100201/20100301/20100401/20111001/20111101/20111201/20110101/20110201/20110301/20110401/20121001/20121101/20121201/20120101/20120201/20120301/20120401/20131001/20131101/20131201/20130101/20130201/20130301/20130401/20141001/20141101/20141201/20140101/20140201/20140301/20140401/20151001/20151101/20151201/20150101/20150201/20150301/20150401/20161001/20161101/20161201/20160101/20160201/20160301/20160401/20171001/20171101/20171201/20170101/20170201/20170301/20170401,type=an,class=eimars - WARN   - 20200403.150730 - For full resolution grid, it is recommended to use RESOL=AV to prevent any truncation before transformation\n",
      "\n",
      "mars - INFO   - 20200403.150730 - Processing request 1\n",
      "\n",
      "RETRIEVE,\n",
      "    CLASS      = EI,\n",
      "    TYPE       = AN,\n",
      "    STREAM     = MNTH,\n",
      "    EXPVER     = 0001,\n",
      "    REPRES     = SH,\n",
      "    LEVTYPE    = SFC,\n",
      "    PARAM      = 207.128,\n",
      "    DATE       = 19791001/19791101/19791201/19790101/19790201/19790301/19790401/19801001/19801101/19801201/19800101/19800201/19800301/19800401/19811001/19811101/19811201/19810101/19810201/19810301/19810401/19821001/19821101/19821201/19820101/19820201/19820301/19820401/19831001/19831101/19831201/19830101/19830201/19830301/19830401/19841001/19841101/19841201/19840101/19840201/19840301/19840401/19851001/19851101/19851201/19850101/19850201/19850301/19850401/19861001/19861101/19861201/19860101/19860201/19860301/19860401/19871001/19871101/19871201/19870101/19870201/19870301/19870401/19881001/19881101/19881201/19880101/19880201/19880301/19880401/19891001/19891101/19891201/19890101/19890201/19890301/19890401/19901001/19901101/19901201/19900101/19900201/19900301/19900401/19911001/19911101/19911201/19910101/19910201/19910301/19910401/19921001/19921101/19921201/19920101/19920201/19920301/19920401/19931001/19931101/19931201/19930101/19930201/19930301/19930401/19941001/19941101/19941201/19940101/19940201/19940301/19940401/19951001/19951101/19951201/19950101/19950201/19950301/19950401/19961001/19961101/19961201/19960101/19960201/19960301/19960401/19971001/19971101/19971201/19970101/19970201/19970301/19970401/19981001/19981101/19981201/19980101/19980201/19980301/19980401/19991001/19991101/19991201/19990101/19990201/19990301/19990401/20001001/20001101/20001201/20000101/20000201/20000301/20000401/20011001/20011101/20011201/20010101/20010201/20010301/20010401/20021001/20021101/20021201/20020101/20020201/20020301/20020401/20031001/20031101/20031201/20030101/20030201/20030301/20030401/20041001/20041101/20041201/20040101/20040201/20040301/20040401/20051001/20051101/20051201/20050101/20050201/20050301/20050401/20061001/20061101/20061201/20060101/20060201/20060301/20060401/20071001/20071101/20071201/20070101/20070201/20070301/20070401/20081001/20081101/20081201/20080101/20080201/20080301/20080401/20091001/20091101/20091201/20090101/20090201/20090301/20090401/20101001/20101101/20101201/20100101/20100201/20100301/20100401/20111001/20111101/20111201/20110101/20110201/20110301/20110401/20121001/20121101/20121201/20120101/20120201/20120301/20120401/20131001/20131101/20131201/20130101/20130201/20130301/20130401/20141001/20141101/20141201/20140101/20140201/20140301/20140401/20151001/20151101/20151201/20150101/20150201/20150301/20150401/20161001/20161101/20161201/20160101/20160201/20160301/20160401/20171001/20171101/20171201/20170101/20170201/20170301/20170401,\n",
      "    TIME       = 0000/0600/1200/1800,\n",
      "    STEP       = 0,\n",
      "    DOMAIN     = G,\n",
      "    RESOL      = AUTO,\n",
      "    AREA       = 72/-10.5/36.75/25.5,\n",
      "    GRID       = 0.75/0.75,\n",
      "    PADDING    = 0\n",
      "\n",
      "mars - INFO   - 20200403.150730 - Web API request id: 5e87511dffde1cabf110cbe5\n",
      "mars - INFO   - 20200403.150730 - Requesting 1092 fields\n",
      "mars - INFO   - 20200403.150730 - Calling mars on 'marser', local port is 58054\n",
      "2020-04-03 16:07:32 Request is active\n",
      "mars - INFO   - 20200403.150831 - Server task is 868 [marser]\n",
      "mars - INFO   - 20200403.150831 - Request cost: 1,092 fields, 185.68 Mbytes online, nodes: mvr02 mvr06 [marser]\n",
      "mars - INFO   - 20200403.150832 - Transfering 194699232 bytes\n",
      "mars - INFO   - 20200403.150849 - 1092 fields retrieved from 'marser'\n",
      "mars - INFO   - 20200403.150849 - 1092 fields have been interpolated\n",
      "mars - INFO   - 20200403.150849 - Request time:  wall: 1 min 18 sec  cpu: 6 sec\n",
      "mars - INFO   - 20200403.150849 -   Read from network: 185.68 Mbyte(s) in 10 sec  [19.02 Mbyte/sec]\n",
      "mars - INFO   - 20200403.150849 -   Processing in marser: wall: 1 min 2 sec\n",
      "mars - INFO   - 20200403.150849 -   Visiting marser: wall: 1 min 18 sec\n",
      "mars - INFO   - 20200403.150849 -   Post-processing: wall: 5 sec cpu: 5 sec\n",
      "mars - INFO   - 20200403.150849 -   Writing to target file: 5.01 Mbyte(s) in < 1 sec [140.36 Mbyte/sec]\n",
      "mars - INFO   - 20200403.150849 - Memory used: 37.37 Mbyte(s)\n",
      "mars - INFO   - 20200403.150849 - No errors reported\n",
      "Process '['nice', 'mars', '/tmp/08/54/tmp-_marstXeXy9.req']' finished\n",
      "Calling 'nice grib_to_netcdf /data/data01/scratch/ea/b0/_mars-atls01-a82bacafb5c306db76464bc7e824bb75-F9fpYp.grib -o /data/data02/scratch/02/95/_grib2netcdf-atls00-a82bacafb5c306db76464bc7e824bb75-gNbv55.nc -utime'\n",
      "grib_to_netcdf: Version 2.15.0\n",
      "grib_to_netcdf: Processing input file '/data/data01/scratch/ea/b0/_mars-atls01-a82bacafb5c306db76464bc7e824bb75-F9fpYp.grib'.\n",
      "grib_to_netcdf: Found 1092 GRIB fields in 1 file.\n",
      "grib_to_netcdf: Ignoring key(s): method, type, stream, refdate, hdate\n",
      "grib_to_netcdf: Creating netCDF file '/data/data02/scratch/02/95/_grib2netcdf-atls00-a82bacafb5c306db76464bc7e824bb75-gNbv55.nc'\n",
      "grib_to_netcdf: NetCDF library version: 4.4.1.1 of Mar 14 2018 13:48:26 $\n",
      "grib_to_netcdf: Creating large (64 bit) file format.\n",
      "grib_to_netcdf: Defining variable 'si10'.\n",
      "grib_to_netcdf: Done.\n",
      "Process '['nice', 'grib_to_netcdf', '/data/data01/scratch/ea/b0/_mars-atls01-a82bacafb5c306db76464bc7e824bb75-F9fpYp.grib', '-o', '/data/data02/scratch/02/95/_grib2netcdf-atls00-a82bacafb5c306db76464bc7e824bb75-gNbv55.nc', '-utime']' finished\n",
      "2020-04-03 16:08:56 Request is complete\n",
      "2020-04-03 16:08:56 Transfering 4.9043 Mbytes into /Users/brynmorp/Repos/when2heat/input/weather/ERA_wind.nc\n",
      "2020-04-03 16:08:56 From https://stream.ecmwf.int/data/atls00/data/data02/scratch/02/95/_grib2netcdf-atls00-a82bacafb5c306db76464bc7e824bb75-gNbv55.nc\n",
      "2020-04-03 16:09:09 Transfer rate 385.721 Kbytes/s\n",
      "2020-04-03 16:09:10 ECMWF API python library 1.4.2\n",
      "2020-04-03 16:09:10 ECMWF API at https://api.ecmwf.int/v1\n",
      "2020-04-03 16:09:10 Welcome Francesco Lombardi\n",
      "2020-04-03 16:09:11 In case of problems, please check https://confluence.ecmwf.int/display/WEBAPI/Web+API+FAQ or contact servicedesk@ecmwf.int\n",
      "2020-04-03 16:09:11 Request submitted\n",
      "2020-04-03 16:09:11 Request id: 5e875197a2de19386e95d360\n",
      "2020-04-03 16:09:11 Request is submitted\n",
      "2020-04-03 16:09:13 Request is queued\n",
      "Calling 'nice mars /tmp/0f/7a/tmp-_marsqVrOaJ.req'\n",
      "mars - WARN -\n",
      "mars - WARN - From 29 January 2019 10AM (UTC) MARS uses the interpolation\n",
      "mars - WARN - provided by the MIR library. For more details, see\n",
      "mars - WARN - https://confluence.ecmwf.int/display/UDOC/MARS+interpolation+with+MIR\n",
      "mars - WARN -\n",
      "PPDIR is /var/tmp/ppdir/x86_64\n",
      "mars - INFO   - 20200403.150952 - Welcome to MARS\n",
      "mars - INFO   - 20200403.150952 - MARS Client bundle version: 6.27.7.1\n",
      "mars - INFO   - 20200403.150952 - MARS Client package version: 6.27.7\n",
      "mars - INFO   - 20200403.150952 - MARS Client build stamp: 20200203131623\n",
      "mars - INFO   - 20200403.150952 - MIR version: 1.4.4\n",
      "mars - INFO   - 20200403.150952 - Using ecCodes version 2.16.0\n",
      "mars - INFO   - 20200403.150952 - Using odb_api version: 0.15.11 (file format version: 0.5)\n",
      "mars - INFO   - 20200403.150952 - Using FDB5 version: 5.5.8\n",
      "mars - INFO   - 20200403.150952 - Maximum retrieval size is 30.00 G\n",
      "retrieve,stream=oper,area=72/-10.5/36.75/25.5,levtype=sfc,param=167.128/236.128,padding=0,step=0,grid=0.75/0.75,expver=0001,time=00:00:00/06:00:00/12:00:00/18:00:00,date=2008-01-01/to/2008-12-31,type=an,class=eimars - WARN   - 20200403.150952 - For full resolution grid, it is recommended to use RESOL=AV to prevent any truncation before transformation\n",
      "mars - INFO   - 20200403.150952 - Automatic split by date is on\n",
      "mars - INFO   - 20200403.150952 - Request has been split into 12 monthly retrievals\n",
      "\n",
      "mars - INFO   - 20200403.150952 - Processing request 1\n",
      "\n",
      "RETRIEVE,\n",
      "    CLASS      = EI,\n",
      "    TYPE       = AN,\n",
      "    STREAM     = OPER,\n",
      "    EXPVER     = 0001,\n",
      "    REPRES     = SH,\n",
      "    LEVTYPE    = SFC,\n",
      "    PARAM      = 167.128/236.128,\n",
      "    TIME       = 0000/0600/1200/1800,\n",
      "    STEP       = 0,\n",
      "    DOMAIN     = G,\n",
      "    RESOL      = AUTO,\n",
      "    AREA       = 72/-10.5/36.75/25.5,\n",
      "    GRID       = 0.75/0.75,\n",
      "    PADDING    = 0,\n",
      "    DATE       = 20080101/20080102/20080103/20080104/20080105/20080106/20080107/20080108/20080109/20080110/20080111/20080112/20080113/20080114/20080115/20080116/20080117/20080118/20080119/20080120/20080121/20080122/20080123/20080124/20080125/20080126/20080127/20080128/20080129/20080130/20080131\n",
      "\n",
      "mars - INFO   - 20200403.150952 - Web API request id: 5e875197a2de19386e95d360\n",
      "mars - INFO   - 20200403.150952 - Requesting 248 fields\n",
      "mars - INFO   - 20200403.150952 - Calling mars on 'marser', local port is 60491\n",
      "2020-04-03 16:09:57 Request is active\n",
      "mars - INFO   - 20200403.150957 - Server task is 680 [marser]\n",
      "mars - INFO   - 20200403.150957 - Request cost: 248 fields, 42.169 Mbytes online, nodes: mvr02 mvr06 [marser]\n",
      "mars - INFO   - 20200403.150957 - Transfering 44217408 bytes\n",
      "mars - INFO   - 20200403.151003 - 248 fields retrieved from 'marser'\n",
      "mars - INFO   - 20200403.151003 - 248 fields have been interpolated\n",
      "mars - INFO   - 20200403.151003 - Request time:  wall: 10 sec  cpu: 2 sec\n",
      "mars - INFO   - 20200403.151003 -   Read from network: 42.17 Mbyte(s) in 4 sec  [11.47 Mbyte/sec]\n",
      "mars - INFO   - 20200403.151003 -   Processing in marser: wall: 5 sec\n",
      "mars - INFO   - 20200403.151003 -   Visiting marser: wall: 10 sec\n",
      "mars - INFO   - 20200403.151003 -   Post-processing: wall: 1 sec cpu: 1 sec\n",
      "mars - INFO   - 20200403.151003 -   Writing to target file: 1.14 Mbyte(s) in < 1 sec [154.67 Mbyte/sec]\n",
      "\n",
      "mars - INFO   - 20200403.151003 - Processing request 2\n",
      "\n",
      "RETRIEVE,\n",
      "    CLASS      = EI,\n",
      "    TYPE       = AN,\n",
      "    STREAM     = OPER,\n",
      "    EXPVER     = 0001,\n",
      "    REPRES     = SH,\n",
      "    LEVTYPE    = SFC,\n",
      "    PARAM      = 167.128/236.128,\n",
      "    TIME       = 0000/0600/1200/1800,\n",
      "    STEP       = 0,\n",
      "    DOMAIN     = G,\n",
      "    RESOL      = AUTO,\n",
      "    AREA       = 72/-10.5/36.75/25.5,\n",
      "    GRID       = 0.75/0.75,\n",
      "    PADDING    = 0,\n",
      "    DATE       = 20080201/20080202/20080203/20080204/20080205/20080206/20080207/20080208/20080209/20080210/20080211/20080212/20080213/20080214/20080215/20080216/20080217/20080218/20080219/20080220/20080221/20080222/20080223/20080224/20080225/20080226/20080227/20080228/20080229\n",
      "\n",
      "mars - INFO   - 20200403.151003 - Requesting 232 fields\n",
      "mars - INFO   - 20200403.151003 - Calling mars on 'marser', local port is 42068\n",
      "mars - INFO   - 20200403.151007 - Server task is 917 [marser]\n",
      "mars - INFO   - 20200403.151007 - Request cost: 232 fields, 39.4484 Mbytes online, nodes: mvr02 mvr06 [marser]\n",
      "mars - INFO   - 20200403.151007 - Transfering 41364672 bytes\n",
      "mars - INFO   - 20200403.151010 - 232 fields retrieved from 'marser'\n",
      "mars - INFO   - 20200403.151010 - 232 fields have been interpolated\n",
      "mars - INFO   - 20200403.151010 - Request time:  wall: 8 sec  cpu: 1 sec\n",
      "mars - INFO   - 20200403.151010 -   Read from network: 39.45 Mbyte(s) in 1 sec  [31.68 Mbyte/sec]\n",
      "mars - INFO   - 20200403.151010 -   Processing in marser: wall: 5 sec\n",
      "mars - INFO   - 20200403.151010 -   Visiting marser: wall: 8 sec cpu: 2 sec\n",
      "mars - INFO   - 20200403.151010 -   Post-processing: wall: 1 sec cpu: 1 sec\n",
      "mars - INFO   - 20200403.151010 -   Writing to target file: 1.06 Mbyte(s) in < 1 sec [136.97 Mbyte/sec]\n",
      "\n",
      "mars - INFO   - 20200403.151010 - Processing request 3\n",
      "\n",
      "RETRIEVE,\n",
      "    CLASS      = EI,\n",
      "    TYPE       = AN,\n",
      "    STREAM     = OPER,\n",
      "    EXPVER     = 0001,\n",
      "    REPRES     = SH,\n",
      "    LEVTYPE    = SFC,\n",
      "    PARAM      = 167.128/236.128,\n",
      "    TIME       = 0000/0600/1200/1800,\n",
      "    STEP       = 0,\n",
      "    DOMAIN     = G,\n",
      "    RESOL      = AUTO,\n",
      "    AREA       = 72/-10.5/36.75/25.5,\n",
      "    GRID       = 0.75/0.75,\n",
      "    PADDING    = 0,\n",
      "    DATE       = 20080301/20080302/20080303/20080304/20080305/20080306/20080307/20080308/20080309/20080310/20080311/20080312/20080313/20080314/20080315/20080316/20080317/20080318/20080319/20080320/20080321/20080322/20080323/20080324/20080325/20080326/20080327/20080328/20080329/20080330/20080331\n",
      "\n",
      "mars - INFO   - 20200403.151010 - Requesting 248 fields\n",
      "mars - INFO   - 20200403.151010 - Calling mars on 'marser', local port is 48728\n",
      "mars - INFO   - 20200403.151015 - Server task is 680 [marser]\n",
      "mars - INFO   - 20200403.151015 - Request cost: 248 fields, 42.169 Mbytes online, nodes: mvr02 mvr06 [marser]\n",
      "mars - INFO   - 20200403.151015 - Transfering 44217408 bytes\n",
      "mars - INFO   - 20200403.151017 - 248 fields retrieved from 'marser'\n",
      "mars - INFO   - 20200403.151017 - 248 fields have been interpolated\n",
      "mars - INFO   - 20200403.151017 - Request time:  wall: 7 sec  cpu: 1 sec\n",
      "mars - INFO   - 20200403.151017 -   Read from network: 42.17 Mbyte(s) in 1 sec  [35.46 Mbyte/sec]\n",
      "mars - INFO   - 20200403.151017 -   Processing in marser: wall: 4 sec\n",
      "mars - INFO   - 20200403.151017 -   Visiting marser: wall: 7 sec cpu: 1 sec\n",
      "mars - INFO   - 20200403.151017 -   Post-processing: wall: 1 sec cpu: 1 sec\n",
      "mars - INFO   - 20200403.151017 -   Writing to target file: 1.14 Mbyte(s) in < 1 sec [132.01 Mbyte/sec]\n",
      "\n",
      "mars - INFO   - 20200403.151017 - Processing request 4\n",
      "\n",
      "RETRIEVE,\n",
      "    CLASS      = EI,\n",
      "    TYPE       = AN,\n",
      "    STREAM     = OPER,\n",
      "    EXPVER     = 0001,\n",
      "    REPRES     = SH,\n",
      "    LEVTYPE    = SFC,\n",
      "    PARAM      = 167.128/236.128,\n",
      "    TIME       = 0000/0600/1200/1800,\n",
      "    STEP       = 0,\n",
      "    DOMAIN     = G,\n",
      "    RESOL      = AUTO,\n",
      "    AREA       = 72/-10.5/36.75/25.5,\n",
      "    GRID       = 0.75/0.75,\n",
      "    PADDING    = 0,\n",
      "    DATE       = 20080401/20080402/20080403/20080404/20080405/20080406/20080407/20080408/20080409/20080410/20080411/20080412/20080413/20080414/20080415/20080416/20080417/20080418/20080419/20080420/20080421/20080422/20080423/20080424/20080425/20080426/20080427/20080428/20080429/20080430\n",
      "\n",
      "mars - INFO   - 20200403.151017 - Requesting 240 fields\n",
      "mars - INFO   - 20200403.151017 - Calling mars on 'marser', local port is 55955\n",
      "mars - INFO   - 20200403.151030 - Server task is 472 [marser]\n",
      "mars - INFO   - 20200403.151030 - Request cost: 240 fields, 40.8087 Mbytes online, nodes: mvr02 mvr06 [marser]\n",
      "mars - INFO   - 20200403.151030 - Transfering 42791040 bytes\n",
      "mars - INFO   - 20200403.151032 - 240 fields retrieved from 'marser'\n",
      "mars - INFO   - 20200403.151032 - 240 fields have been interpolated\n",
      "mars - INFO   - 20200403.151032 - Request time:  wall: 15 sec  cpu: 1 sec\n",
      "mars - INFO   - 20200403.151032 -   Read from network: 40.81 Mbyte(s) in 1 sec  [34.17 Mbyte/sec]\n",
      "mars - INFO   - 20200403.151032 -   Processing in marser: wall: 12 sec\n",
      "mars - INFO   - 20200403.151032 -   Visiting marser: wall: 15 sec cpu: 2 sec\n",
      "mars - INFO   - 20200403.151032 -   Post-processing: wall: 1 sec cpu: 1 sec\n",
      "mars - INFO   - 20200403.151032 -   Writing to target file: 1.10 Mbyte(s) in < 1 sec [119.38 Mbyte/sec]\n",
      "\n",
      "mars - INFO   - 20200403.151032 - Processing request 5\n",
      "\n",
      "RETRIEVE,\n",
      "    CLASS      = EI,\n",
      "    TYPE       = AN,\n",
      "    STREAM     = OPER,\n",
      "    EXPVER     = 0001,\n",
      "    REPRES     = SH,\n",
      "    LEVTYPE    = SFC,\n",
      "    PARAM      = 167.128/236.128,\n",
      "    TIME       = 0000/0600/1200/1800,\n",
      "    STEP       = 0,\n",
      "    DOMAIN     = G,\n",
      "    RESOL      = AUTO,\n",
      "    AREA       = 72/-10.5/36.75/25.5,\n",
      "    GRID       = 0.75/0.75,\n",
      "    PADDING    = 0,\n",
      "    DATE       = 20080501/20080502/20080503/20080504/20080505/20080506/20080507/20080508/20080509/20080510/20080511/20080512/20080513/20080514/20080515/20080516/20080517/20080518/20080519/20080520/20080521/20080522/20080523/20080524/20080525/20080526/20080527/20080528/20080529/20080530/20080531\n",
      "\n",
      "mars - INFO   - 20200403.151032 - Requesting 248 fields\n",
      "mars - INFO   - 20200403.151032 - Calling mars on 'marser', local port is 48887\n",
      "mars - INFO   - 20200403.151037 - Server task is 680 [marser]\n",
      "mars - INFO   - 20200403.151037 - Request cost: 248 fields, 42.169 Mbytes online, nodes: mvr02 mvr06 [marser]\n",
      "mars - INFO   - 20200403.151037 - Transfering 44217408 bytes\n",
      "mars - INFO   - 20200403.151040 - 248 fields retrieved from 'marser'\n",
      "mars - INFO   - 20200403.151040 - 248 fields have been interpolated\n",
      "mars - INFO   - 20200403.151040 - Request time:  wall: 8 sec  cpu: 1 sec\n",
      "mars - INFO   - 20200403.151040 -   Read from network: 42.17 Mbyte(s) in 1 sec  [30.00 Mbyte/sec]\n",
      "mars - INFO   - 20200403.151040 -   Processing in marser: wall: 5 sec\n",
      "mars - INFO   - 20200403.151040 -   Visiting marser: wall: 8 sec cpu: 2 sec\n",
      "mars - INFO   - 20200403.151040 -   Post-processing: wall: 1 sec cpu: 1 sec\n",
      "mars - INFO   - 20200403.151040 -   Writing to target file: 1.14 Mbyte(s) in < 1 sec [112.53 Mbyte/sec]\n",
      "\n",
      "mars - INFO   - 20200403.151040 - Processing request 6\n",
      "\n",
      "RETRIEVE,\n",
      "    CLASS      = EI,\n",
      "    TYPE       = AN,\n",
      "    STREAM     = OPER,\n",
      "    EXPVER     = 0001,\n",
      "    REPRES     = SH,\n",
      "    LEVTYPE    = SFC,\n",
      "    PARAM      = 167.128/236.128,\n",
      "    TIME       = 0000/0600/1200/1800,\n",
      "    STEP       = 0,\n",
      "    DOMAIN     = G,\n",
      "    RESOL      = AUTO,\n",
      "    AREA       = 72/-10.5/36.75/25.5,\n",
      "    GRID       = 0.75/0.75,\n",
      "    PADDING    = 0,\n",
      "    DATE       = 20080601/20080602/20080603/20080604/20080605/20080606/20080607/20080608/20080609/20080610/20080611/20080612/20080613/20080614/20080615/20080616/20080617/20080618/20080619/20080620/20080621/20080622/20080623/20080624/20080625/20080626/20080627/20080628/20080629/20080630\n",
      "\n",
      "mars - INFO   - 20200403.151040 - Requesting 240 fields\n",
      "mars - INFO   - 20200403.151040 - Calling mars on 'marser', local port is 44754\n",
      "mars - INFO   - 20200403.151041 - Server task is 813 [marser]\n",
      "mars - INFO   - 20200403.151041 - Request cost: 240 fields, 40.8087 Mbytes online, nodes: mvr02 mvr06 [marser]\n",
      "mars - INFO   - 20200403.151041 - Transfering 42791040 bytes\n",
      "mars - INFO   - 20200403.151045 - 240 fields retrieved from 'marser'\n",
      "mars - INFO   - 20200403.151045 - 240 fields have been interpolated\n",
      "mars - INFO   - 20200403.151045 - Request time:  wall: 4 sec  cpu: 2 sec\n",
      "mars - INFO   - 20200403.151045 -   Read from network: 40.81 Mbyte(s) in 2 sec  [25.62 Mbyte/sec]\n",
      "mars - INFO   - 20200403.151045 -   Processing in marser: wall: 1 sec\n",
      "mars - INFO   - 20200403.151045 -   Visiting marser: wall: 4 sec cpu: 2 sec\n",
      "mars - INFO   - 20200403.151045 -   Post-processing: wall: 1 sec cpu: 1 sec\n",
      "mars - INFO   - 20200403.151045 -   Writing to target file: 1.10 Mbyte(s) in < 1 sec [107.39 Mbyte/sec]\n",
      "\n",
      "mars - INFO   - 20200403.151045 - Processing request 7\n",
      "\n",
      "RETRIEVE,\n",
      "    CLASS      = EI,\n",
      "    TYPE       = AN,\n",
      "    STREAM     = OPER,\n",
      "    EXPVER     = 0001,\n",
      "    REPRES     = SH,\n",
      "    LEVTYPE    = SFC,\n",
      "    PARAM      = 167.128/236.128,\n",
      "    TIME       = 0000/0600/1200/1800,\n",
      "    STEP       = 0,\n",
      "    DOMAIN     = G,\n",
      "    RESOL      = AUTO,\n",
      "    AREA       = 72/-10.5/36.75/25.5,\n",
      "    GRID       = 0.75/0.75,\n",
      "    PADDING    = 0,\n",
      "    DATE       = 20080701/20080702/20080703/20080704/20080705/20080706/20080707/20080708/20080709/20080710/20080711/20080712/20080713/20080714/20080715/20080716/20080717/20080718/20080719/20080720/20080721/20080722/20080723/20080724/20080725/20080726/20080727/20080728/20080729/20080730/20080731\n",
      "\n",
      "mars - INFO   - 20200403.151045 - Requesting 248 fields\n",
      "mars - INFO   - 20200403.151045 - Calling mars on 'marser', local port is 34555\n",
      "mars - INFO   - 20200403.151052 - Server task is 405 [marser]\n",
      "mars - INFO   - 20200403.151052 - Request cost: 248 fields, 42.169 Mbytes online, nodes: mvr02 mvr06 [marser]\n",
      "mars - INFO   - 20200403.151052 - Transfering 44217408 bytes\n",
      "mars - INFO   - 20200403.151054 - 248 fields retrieved from 'marser'\n",
      "mars - INFO   - 20200403.151054 - 248 fields have been interpolated\n",
      "mars - INFO   - 20200403.151054 - Request time:  wall: 10 sec  cpu: 1 sec\n",
      "mars - INFO   - 20200403.151054 -   Read from network: 42.17 Mbyte(s) in 1 sec  [39.83 Mbyte/sec]\n",
      "mars - INFO   - 20200403.151054 -   Processing in marser: wall: 7 sec\n",
      "mars - INFO   - 20200403.151054 -   Visiting marser: wall: 10 sec cpu: 1 sec\n",
      "mars - INFO   - 20200403.151054 -   Post-processing: wall: 1 sec cpu: 1 sec\n",
      "mars - INFO   - 20200403.151054 -   Writing to target file: 1.14 Mbyte(s) in < 1 sec [177.97 Mbyte/sec]\n",
      "\n",
      "mars - INFO   - 20200403.151054 - Processing request 8\n",
      "\n",
      "RETRIEVE,\n",
      "    CLASS      = EI,\n",
      "    TYPE       = AN,\n",
      "    STREAM     = OPER,\n",
      "    EXPVER     = 0001,\n",
      "    REPRES     = SH,\n",
      "    LEVTYPE    = SFC,\n",
      "    PARAM      = 167.128/236.128,\n",
      "    TIME       = 0000/0600/1200/1800,\n",
      "    STEP       = 0,\n",
      "    DOMAIN     = G,\n",
      "    RESOL      = AUTO,\n",
      "    AREA       = 72/-10.5/36.75/25.5,\n",
      "    GRID       = 0.75/0.75,\n",
      "    PADDING    = 0,\n",
      "    DATE       = 20080801/20080802/20080803/20080804/20080805/20080806/20080807/20080808/20080809/20080810/20080811/20080812/20080813/20080814/20080815/20080816/20080817/20080818/20080819/20080820/20080821/20080822/20080823/20080824/20080825/20080826/20080827/20080828/20080829/20080830/20080831\n",
      "\n",
      "mars - INFO   - 20200403.151054 - Requesting 248 fields\n",
      "mars - INFO   - 20200403.151054 - Calling mars on 'marser', local port is 39668\n",
      "mars - INFO   - 20200403.151055 - Server task is 498 [marser]\n",
      "mars - INFO   - 20200403.151055 - Request cost: 248 fields, 42.169 Mbytes online, nodes: mvr02 mvr06 [marser]\n",
      "mars - INFO   - 20200403.151055 - Transfering 44217408 bytes\n",
      "mars - INFO   - 20200403.151100 - 248 fields retrieved from 'marser'\n",
      "mars - INFO   - 20200403.151100 - 248 fields have been interpolated\n",
      "mars - INFO   - 20200403.151100 - Request time:  wall: 5 sec  cpu: 1 sec\n",
      "mars - INFO   - 20200403.151100 -   Read from network: 42.17 Mbyte(s) in 3 sec  [13.27 Mbyte/sec]\n",
      "mars - INFO   - 20200403.151100 -   Visiting marser: wall: 5 sec cpu: 2 sec\n",
      "mars - INFO   - 20200403.151100 -   Post-processing: wall: 1 sec cpu: 1 sec\n",
      "mars - INFO   - 20200403.151100 -   Writing to target file: 1.14 Mbyte(s) in < 1 sec [176.80 Mbyte/sec]\n",
      "\n",
      "mars - INFO   - 20200403.151100 - Processing request 9\n",
      "\n",
      "RETRIEVE,\n",
      "    CLASS      = EI,\n",
      "    TYPE       = AN,\n",
      "    STREAM     = OPER,\n",
      "    EXPVER     = 0001,\n",
      "    REPRES     = SH,\n",
      "    LEVTYPE    = SFC,\n",
      "    PARAM      = 167.128/236.128,\n",
      "    TIME       = 0000/0600/1200/1800,\n",
      "    STEP       = 0,\n",
      "    DOMAIN     = G,\n",
      "    RESOL      = AUTO,\n",
      "    AREA       = 72/-10.5/36.75/25.5,\n",
      "    GRID       = 0.75/0.75,\n",
      "    PADDING    = 0,\n",
      "    DATE       = 20080901/20080902/20080903/20080904/20080905/20080906/20080907/20080908/20080909/20080910/20080911/20080912/20080913/20080914/20080915/20080916/20080917/20080918/20080919/20080920/20080921/20080922/20080923/20080924/20080925/20080926/20080927/20080928/20080929/20080930\n",
      "\n",
      "mars - INFO   - 20200403.151100 - Requesting 240 fields\n",
      "mars - INFO   - 20200403.151100 - Calling mars on 'marser', local port is 44245\n",
      "mars - INFO   - 20200403.151101 - Server task is 405 [marser]\n",
      "mars - INFO   - 20200403.151101 - Request cost: 240 fields, 40.8087 Mbytes online, nodes: mvr02 mvr06 [marser]\n",
      "mars - INFO   - 20200403.151102 - Transfering 42791040 bytes\n",
      "mars - INFO   - 20200403.151104 - 240 fields retrieved from 'marser'\n",
      "mars - INFO   - 20200403.151104 - 240 fields have been interpolated\n",
      "mars - INFO   - 20200403.151104 - Request time:  wall: 5 sec  cpu: 1 sec\n",
      "mars - INFO   - 20200403.151104 -   Read from network: 40.81 Mbyte(s) in 1 sec  [34.98 Mbyte/sec]\n",
      "mars - INFO   - 20200403.151104 -   Processing in marser: wall: 2 sec\n",
      "mars - INFO   - 20200403.151104 -   Visiting marser: wall: 5 sec cpu: 1 sec\n",
      "mars - INFO   - 20200403.151104 -   Post-processing: wall: 1 sec cpu: 1 sec\n",
      "mars - INFO   - 20200403.151104 -   Writing to target file: 1.10 Mbyte(s) in < 1 sec [175.38 Mbyte/sec]\n",
      "\n",
      "mars - INFO   - 20200403.151104 - Processing request 10\n",
      "\n",
      "RETRIEVE,\n",
      "    CLASS      = EI,\n",
      "    TYPE       = AN,\n",
      "    STREAM     = OPER,\n",
      "    EXPVER     = 0001,\n",
      "    REPRES     = SH,\n",
      "    LEVTYPE    = SFC,\n",
      "    PARAM      = 167.128/236.128,\n",
      "    TIME       = 0000/0600/1200/1800,\n",
      "    STEP       = 0,\n",
      "    DOMAIN     = G,\n",
      "    RESOL      = AUTO,\n",
      "    AREA       = 72/-10.5/36.75/25.5,\n",
      "    GRID       = 0.75/0.75,\n",
      "    PADDING    = 0,\n",
      "    DATE       = 20081001/20081002/20081003/20081004/20081005/20081006/20081007/20081008/20081009/20081010/20081011/20081012/20081013/20081014/20081015/20081016/20081017/20081018/20081019/20081020/20081021/20081022/20081023/20081024/20081025/20081026/20081027/20081028/20081029/20081030/20081031\n",
      "\n",
      "mars - INFO   - 20200403.151104 - Requesting 248 fields\n",
      "mars - INFO   - 20200403.151104 - Calling mars on 'marser', local port is 44232\n",
      "mars - INFO   - 20200403.151107 - Server task is 813 [marser]\n",
      "mars - INFO   - 20200403.151107 - Request cost: 248 fields, 42.169 Mbytes online, nodes: mvr02 mvr06 [marser]\n",
      "mars - INFO   - 20200403.151107 - Transfering 44217408 bytes\n",
      "mars - INFO   - 20200403.151110 - 248 fields retrieved from 'marser'\n",
      "mars - INFO   - 20200403.151110 - 248 fields have been interpolated\n",
      "mars - INFO   - 20200403.151110 - Request time:  wall: 5 sec  cpu: 1 sec\n",
      "mars - INFO   - 20200403.151110 -   Read from network: 42.17 Mbyte(s) in 1 sec  [35.70 Mbyte/sec]\n",
      "mars - INFO   - 20200403.151110 -   Processing in marser: wall: 3 sec\n",
      "mars - INFO   - 20200403.151110 -   Visiting marser: wall: 5 sec cpu: 2 sec\n",
      "mars - INFO   - 20200403.151110 -   Post-processing: wall: 1 sec cpu: 1 sec\n",
      "mars - INFO   - 20200403.151110 -   Writing to target file: 1.14 Mbyte(s) in < 1 sec [172.02 Mbyte/sec]\n",
      "\n",
      "mars - INFO   - 20200403.151110 - Processing request 11\n",
      "\n",
      "RETRIEVE,\n",
      "    CLASS      = EI,\n",
      "    TYPE       = AN,\n",
      "    STREAM     = OPER,\n",
      "    EXPVER     = 0001,\n",
      "    REPRES     = SH,\n",
      "    LEVTYPE    = SFC,\n",
      "    PARAM      = 167.128/236.128,\n",
      "    TIME       = 0000/0600/1200/1800,\n",
      "    STEP       = 0,\n",
      "    DOMAIN     = G,\n",
      "    RESOL      = AUTO,\n",
      "    AREA       = 72/-10.5/36.75/25.5,\n",
      "    GRID       = 0.75/0.75,\n",
      "    PADDING    = 0,\n",
      "    DATE       = 20081101/20081102/20081103/20081104/20081105/20081106/20081107/20081108/20081109/20081110/20081111/20081112/20081113/20081114/20081115/20081116/20081117/20081118/20081119/20081120/20081121/20081122/20081123/20081124/20081125/20081126/20081127/20081128/20081129/20081130\n",
      "\n",
      "mars - INFO   - 20200403.151110 - Requesting 240 fields\n",
      "mars - INFO   - 20200403.151110 - Calling mars on 'marser', local port is 45644\n",
      "mars - INFO   - 20200403.151110 - Server task is 405 [marser]\n",
      "mars - INFO   - 20200403.151110 - Request cost: 240 fields, 40.8087 Mbytes online, nodes: mvr02 mvr06 [marser]\n",
      "mars - INFO   - 20200403.151111 - Transfering 42791040 bytes\n",
      "mars - INFO   - 20200403.151113 - 240 fields retrieved from 'marser'\n",
      "mars - INFO   - 20200403.151113 - 240 fields have been interpolated\n",
      "mars - INFO   - 20200403.151113 - Request time:  wall: 4 sec  cpu: 1 sec\n",
      "mars - INFO   - 20200403.151113 -   Read from network: 40.81 Mbyte(s) in 1 sec  [32.92 Mbyte/sec]\n",
      "mars - INFO   - 20200403.151113 -   Visiting marser: wall: 4 sec cpu: 1 sec\n",
      "mars - INFO   - 20200403.151113 -   Post-processing: wall: 1 sec cpu: 1 sec\n",
      "mars - INFO   - 20200403.151113 -   Writing to target file: 1.10 Mbyte(s) in < 1 sec [171.00 Mbyte/sec]\n",
      "\n",
      "mars - INFO   - 20200403.151113 - Processing request 12\n",
      "\n",
      "RETRIEVE,\n",
      "    CLASS      = EI,\n",
      "    TYPE       = AN,\n",
      "    STREAM     = OPER,\n",
      "    EXPVER     = 0001,\n",
      "    REPRES     = SH,\n",
      "    LEVTYPE    = SFC,\n",
      "    PARAM      = 167.128/236.128,\n",
      "    TIME       = 0000/0600/1200/1800,\n",
      "    STEP       = 0,\n",
      "    DOMAIN     = G,\n",
      "    RESOL      = AUTO,\n",
      "    AREA       = 72/-10.5/36.75/25.5,\n",
      "    GRID       = 0.75/0.75,\n",
      "    PADDING    = 0,\n",
      "    DATE       = 20081201/20081202/20081203/20081204/20081205/20081206/20081207/20081208/20081209/20081210/20081211/20081212/20081213/20081214/20081215/20081216/20081217/20081218/20081219/20081220/20081221/20081222/20081223/20081224/20081225/20081226/20081227/20081228/20081229/20081230/20081231\n",
      "\n",
      "mars - INFO   - 20200403.151113 - Requesting 248 fields\n",
      "mars - INFO   - 20200403.151113 - Calling mars on 'marser', local port is 56739\n",
      "mars - INFO   - 20200403.151115 - Server task is 405 [marser]\n",
      "mars - INFO   - 20200403.151115 - Request cost: 248 fields, 42.169 Mbytes online, nodes: mvr02 mvr06 [marser]\n",
      "mars - INFO   - 20200403.151115 - Transfering 44217408 bytes\n",
      "mars - INFO   - 20200403.151118 - 248 fields retrieved from 'marser'\n",
      "mars - INFO   - 20200403.151118 - 248 fields have been interpolated\n",
      "mars - INFO   - 20200403.151118 - Request time:  wall: 5 sec  cpu: 1 sec\n",
      "mars - INFO   - 20200403.151118 -   Read from network: 42.17 Mbyte(s) in 1 sec  [31.23 Mbyte/sec]\n",
      "mars - INFO   - 20200403.151118 -   Processing in marser: wall: 2 sec\n",
      "mars - INFO   - 20200403.151118 -   Visiting marser: wall: 5 sec cpu: 2 sec\n",
      "mars - INFO   - 20200403.151118 -   Post-processing: wall: 1 sec cpu: 1 sec\n",
      "mars - INFO   - 20200403.151118 -   Writing to target file: 1.14 Mbyte(s) in < 1 sec [163.59 Mbyte/sec]\n",
      "mars - INFO   - 20200403.151118 - Memory used: 56.79 Mbyte(s)\n",
      "mars - INFO   - 20200403.151118 - No errors reported\n",
      "Process '['nice', 'mars', '/tmp/0f/7a/tmp-_marsqVrOaJ.req']' finished\n",
      "Calling 'nice grib_to_netcdf /data/data05/scratch/cf/89/_mars-atls00-70e05f9f8ba4e9d19932f1c45a7be8d8-q4EFq2.grib -o /data/data04/scratch/e0/94/_grib2netcdf-atls01-a562cefde8a29a7288fa0b8b7f9413f7-MHBDSK.nc -utime'\n",
      "2020-04-03 16:11:32 Request is complete\n",
      "2020-04-03 16:11:32 Transfering 13.1424 Mbytes into /Users/brynmorp/Repos/when2heat/input/weather/ERA_temperature_2008.nc\n",
      "2020-04-03 16:11:32 From https://stream.ecmwf.int/data/atls01/data/data04/scratch/e0/94/_grib2netcdf-atls01-a562cefde8a29a7288fa0b8b7f9413f7-MHBDSK.nc\n",
      "2020-04-03 16:12:18 Transfer rate 291.65 Kbytes/s\n",
      "2020-04-03 16:12:19 ECMWF API python library 1.4.2\n",
      "2020-04-03 16:12:19 ECMWF API at https://api.ecmwf.int/v1\n",
      "2020-04-03 16:12:19 Welcome Francesco Lombardi\n",
      "2020-04-03 16:12:20 In case of problems, please check https://confluence.ecmwf.int/display/WEBAPI/Web+API+FAQ or contact servicedesk@ecmwf.int\n",
      "2020-04-03 16:12:20 Request submitted\n",
      "2020-04-03 16:12:20 Request id: 5e875254ffde1cac0510cbef\n",
      "2020-04-03 16:12:20 Request is submitted\n",
      "2020-04-03 16:12:22 Request is queued\n",
      "Calling 'nice mars /tmp/54/6c/tmp-_marso6puf2.req'\n",
      "mars - WARN -\n",
      "mars - WARN - From 29 January 2019 10AM (UTC) MARS uses the interpolation\n",
      "mars - WARN - provided by the MIR library. For more details, see\n",
      "mars - WARN - https://confluence.ecmwf.int/display/UDOC/MARS+interpolation+with+MIR\n",
      "mars - WARN -\n",
      "PPDIR is /var/tmp/ppdir/x86_64\n",
      "mars - INFO   - 20200403.151226 - Welcome to MARS\n",
      "mars - INFO   - 20200403.151226 - MARS Client bundle version: 6.27.7.1\n",
      "mars - INFO   - 20200403.151226 - MARS Client package version: 6.27.7\n",
      "mars - INFO   - 20200403.151226 - MARS Client build stamp: 20200203131623\n",
      "mars - INFO   - 20200403.151226 - MIR version: 1.4.4\n",
      "mars - INFO   - 20200403.151226 - Using ecCodes version 2.16.0\n",
      "mars - INFO   - 20200403.151226 - Using odb_api version: 0.15.11 (file format version: 0.5)\n",
      "mars - INFO   - 20200403.151226 - Using FDB5 version: 5.5.8\n",
      "mars - INFO   - 20200403.151226 - Maximum retrieval size is 30.00 G\n",
      "retrieve,stream=oper,area=72/-10.5/36.75/25.5,levtype=sfc,param=167.128/236.128,padding=0,step=0,grid=0.75/0.75,expver=0001,time=00:00:00/06:00:00/12:00:00/18:00:00,date=2009-01-01/to/2009-12-31,type=an,class=eimars - WARN   - 20200403.151226 - For full resolution grid, it is recommended to use RESOL=AV to prevent any truncation before transformation\n",
      "mars - INFO   - 20200403.151226 - Automatic split by date is on\n",
      "mars - INFO   - 20200403.151226 - Request has been split into 12 monthly retrievals\n",
      "\n",
      "mars - INFO   - 20200403.151226 - Processing request 1\n",
      "\n",
      "RETRIEVE,\n",
      "    CLASS      = EI,\n",
      "    TYPE       = AN,\n",
      "    STREAM     = OPER,\n",
      "    EXPVER     = 0001,\n",
      "    REPRES     = SH,\n",
      "    LEVTYPE    = SFC,\n",
      "    PARAM      = 167.128/236.128,\n",
      "    TIME       = 0000/0600/1200/1800,\n",
      "    STEP       = 0,\n",
      "    DOMAIN     = G,\n",
      "    RESOL      = AUTO,\n",
      "    AREA       = 72/-10.5/36.75/25.5,\n",
      "    GRID       = 0.75/0.75,\n",
      "    PADDING    = 0,\n",
      "    DATE       = 20090101/20090102/20090103/20090104/20090105/20090106/20090107/20090108/20090109/20090110/20090111/20090112/20090113/20090114/20090115/20090116/20090117/20090118/20090119/20090120/20090121/20090122/20090123/20090124/20090125/20090126/20090127/20090128/20090129/20090130/20090131\n",
      "\n",
      "mars - INFO   - 20200403.151226 - Web API request id: 5e875254ffde1cac0510cbef\n",
      "mars - INFO   - 20200403.151226 - Requesting 248 fields\n",
      "mars - INFO   - 20200403.151226 - Calling mars on 'marser', local port is 33026\n",
      "2020-04-03 16:12:27 Request is active\n",
      "mars - INFO   - 20200403.151254 - Server task is 527 [marser]\n",
      "mars - INFO   - 20200403.151254 - Request cost: 248 fields, 42.169 Mbytes online, nodes: mvr02 mvr06 [marser]\n",
      "mars - INFO   - 20200403.151254 - Transfering 44217408 bytes\n",
      "mars - INFO   - 20200403.151257 - 248 fields retrieved from 'marser'\n",
      "mars - INFO   - 20200403.151257 - 248 fields have been interpolated\n",
      "mars - INFO   - 20200403.151257 - Request time:  wall: 32 sec  cpu: 2 sec\n",
      "mars - INFO   - 20200403.151257 -   Read from network: 42.17 Mbyte(s) in 1 sec  [35.38 Mbyte/sec]\n",
      "mars - INFO   - 20200403.151257 -   Processing in marser: wall: 28 sec\n",
      "mars - INFO   - 20200403.151257 -   Visiting marser: wall: 32 sec\n",
      "mars - INFO   - 20200403.151257 -   Post-processing: wall: 2 sec cpu: 2 sec\n",
      "mars - INFO   - 20200403.151257 -   Writing to target file: 1.14 Mbyte(s) in < 1 sec [122.05 Mbyte/sec]\n",
      "\n",
      "mars - INFO   - 20200403.151257 - Processing request 2\n",
      "\n",
      "RETRIEVE,\n",
      "    CLASS      = EI,\n",
      "    TYPE       = AN,\n",
      "    STREAM     = OPER,\n",
      "    EXPVER     = 0001,\n",
      "    REPRES     = SH,\n",
      "    LEVTYPE    = SFC,\n",
      "    PARAM      = 167.128/236.128,\n",
      "    TIME       = 0000/0600/1200/1800,\n",
      "    STEP       = 0,\n",
      "    DOMAIN     = G,\n",
      "    RESOL      = AUTO,\n",
      "    AREA       = 72/-10.5/36.75/25.5,\n",
      "    GRID       = 0.75/0.75,\n",
      "    PADDING    = 0,\n",
      "    DATE       = 20090201/20090202/20090203/20090204/20090205/20090206/20090207/20090208/20090209/20090210/20090211/20090212/20090213/20090214/20090215/20090216/20090217/20090218/20090219/20090220/20090221/20090222/20090223/20090224/20090225/20090226/20090227/20090228\n",
      "\n",
      "mars - INFO   - 20200403.151257 - Requesting 224 fields\n",
      "mars - INFO   - 20200403.151257 - Calling mars on 'marser', local port is 43724\n",
      "mars - INFO   - 20200403.151331 - Server task is 527 [marser]\n",
      "mars - INFO   - 20200403.151331 - Request cost: 224 fields, 38.0881 Mbytes online, nodes: mvr02 mvr06 [marser]\n",
      "mars - INFO   - 20200403.151331 - Transfering 39938304 bytes\n",
      "mars - INFO   - 20200403.151335 - 224 fields retrieved from 'marser'\n",
      "mars - INFO   - 20200403.151335 - 224 fields have been interpolated\n",
      "mars - INFO   - 20200403.151335 - Request time:  wall: 38 sec  cpu: 1 sec\n",
      "mars - INFO   - 20200403.151335 -   Read from network: 38.09 Mbyte(s) in 3 sec  [14.51 Mbyte/sec]\n",
      "mars - INFO   - 20200403.151335 -   Processing in marser: wall: 34 sec\n",
      "mars - INFO   - 20200403.151335 -   Visiting marser: wall: 38 sec cpu: 1 sec\n",
      "mars - INFO   - 20200403.151335 -   Post-processing: wall: 1 sec cpu: 1 sec\n",
      "mars - INFO   - 20200403.151335 -   Writing to target file: 1.03 Mbyte(s) in < 1 sec [125.85 Mbyte/sec]\n",
      "\n",
      "mars - INFO   - 20200403.151335 - Processing request 3\n",
      "\n",
      "RETRIEVE,\n",
      "    CLASS      = EI,\n",
      "    TYPE       = AN,\n",
      "    STREAM     = OPER,\n",
      "    EXPVER     = 0001,\n",
      "    REPRES     = SH,\n",
      "    LEVTYPE    = SFC,\n",
      "    PARAM      = 167.128/236.128,\n",
      "    TIME       = 0000/0600/1200/1800,\n",
      "    STEP       = 0,\n",
      "    DOMAIN     = G,\n",
      "    RESOL      = AUTO,\n",
      "    AREA       = 72/-10.5/36.75/25.5,\n",
      "    GRID       = 0.75/0.75,\n",
      "    PADDING    = 0,\n",
      "    DATE       = 20090301/20090302/20090303/20090304/20090305/20090306/20090307/20090308/20090309/20090310/20090311/20090312/20090313/20090314/20090315/20090316/20090317/20090318/20090319/20090320/20090321/20090322/20090323/20090324/20090325/20090326/20090327/20090328/20090329/20090330/20090331\n",
      "\n",
      "mars - INFO   - 20200403.151335 - Requesting 248 fields\n",
      "mars - INFO   - 20200403.151335 - Calling mars on 'marser', local port is 49727\n",
      "mars - INFO   - 20200403.151348 - Server task is 908 [marser]\n",
      "mars - INFO   - 20200403.151348 - Request cost: 248 fields, 42.169 Mbytes online, nodes: mvr02 mvr06 [marser]\n",
      "mars - INFO   - 20200403.151348 - Transfering 44217408 bytes\n",
      "mars - INFO   - 20200403.151351 - 248 fields retrieved from 'marser'\n",
      "mars - INFO   - 20200403.151351 - 248 fields have been interpolated\n",
      "mars - INFO   - 20200403.151351 - Request time:  wall: 16 sec  cpu: 1 sec\n",
      "mars - INFO   - 20200403.151351 -   Read from network: 42.17 Mbyte(s) in 1 sec  [29.34 Mbyte/sec]\n",
      "mars - INFO   - 20200403.151351 -   Processing in marser: wall: 13 sec\n",
      "mars - INFO   - 20200403.151351 -   Visiting marser: wall: 16 sec cpu: 1 sec\n",
      "mars - INFO   - 20200403.151351 -   Post-processing: wall: 1 sec cpu: 1 sec\n",
      "mars - INFO   - 20200403.151351 -   Writing to target file: 1.14 Mbyte(s) in < 1 sec [142.33 Mbyte/sec]\n",
      "\n",
      "mars - INFO   - 20200403.151351 - Processing request 4\n",
      "\n",
      "RETRIEVE,\n",
      "    CLASS      = EI,\n",
      "    TYPE       = AN,\n",
      "    STREAM     = OPER,\n",
      "    EXPVER     = 0001,\n",
      "    REPRES     = SH,\n",
      "    LEVTYPE    = SFC,\n",
      "    PARAM      = 167.128/236.128,\n",
      "    TIME       = 0000/0600/1200/1800,\n",
      "    STEP       = 0,\n",
      "    DOMAIN     = G,\n",
      "    RESOL      = AUTO,\n",
      "    AREA       = 72/-10.5/36.75/25.5,\n",
      "    GRID       = 0.75/0.75,\n",
      "    PADDING    = 0,\n",
      "    DATE       = 20090401/20090402/20090403/20090404/20090405/20090406/20090407/20090408/20090409/20090410/20090411/20090412/20090413/20090414/20090415/20090416/20090417/20090418/20090419/20090420/20090421/20090422/20090423/20090424/20090425/20090426/20090427/20090428/20090429/20090430\n",
      "\n",
      "mars - INFO   - 20200403.151351 - Requesting 240 fields\n",
      "mars - INFO   - 20200403.151351 - Calling mars on 'marser', local port is 39558\n",
      "mars - INFO   - 20200403.151402 - Server task is 390 [marser]\n",
      "mars - INFO   - 20200403.151402 - Request cost: 240 fields, 40.8087 Mbytes online, nodes: mvr02 mvr06 [marser]\n",
      "mars - INFO   - 20200403.151402 - Transfering 42791040 bytes\n",
      "mars - INFO   - 20200403.151406 - 240 fields retrieved from 'marser'\n",
      "mars - INFO   - 20200403.151406 - 240 fields have been interpolated\n",
      "mars - INFO   - 20200403.151406 - Request time:  wall: 15 sec  cpu: 1 sec\n",
      "mars - INFO   - 20200403.151406 -   Read from network: 40.81 Mbyte(s) in 3 sec  [15.98 Mbyte/sec]\n",
      "mars - INFO   - 20200403.151406 -   Processing in marser: wall: 11 sec\n",
      "mars - INFO   - 20200403.151406 -   Visiting marser: wall: 15 sec cpu: 1 sec\n",
      "mars - INFO   - 20200403.151406 -   Post-processing: wall: 1 sec cpu: 1 sec\n",
      "mars - INFO   - 20200403.151406 -   Writing to target file: 1.10 Mbyte(s) in < 1 sec [165.07 Mbyte/sec]\n",
      "\n",
      "mars - INFO   - 20200403.151406 - Processing request 5\n",
      "\n",
      "RETRIEVE,\n",
      "    CLASS      = EI,\n",
      "    TYPE       = AN,\n",
      "    STREAM     = OPER,\n",
      "    EXPVER     = 0001,\n",
      "    REPRES     = SH,\n",
      "    LEVTYPE    = SFC,\n",
      "    PARAM      = 167.128/236.128,\n",
      "    TIME       = 0000/0600/1200/1800,\n",
      "    STEP       = 0,\n",
      "    DOMAIN     = G,\n",
      "    RESOL      = AUTO,\n",
      "    AREA       = 72/-10.5/36.75/25.5,\n",
      "    GRID       = 0.75/0.75,\n",
      "    PADDING    = 0,\n",
      "    DATE       = 20090501/20090502/20090503/20090504/20090505/20090506/20090507/20090508/20090509/20090510/20090511/20090512/20090513/20090514/20090515/20090516/20090517/20090518/20090519/20090520/20090521/20090522/20090523/20090524/20090525/20090526/20090527/20090528/20090529/20090530/20090531\n",
      "\n",
      "mars - INFO   - 20200403.151406 - Requesting 248 fields\n",
      "mars - INFO   - 20200403.151406 - Calling mars on 'marser', local port is 40301\n",
      "mars - INFO   - 20200403.151425 - Server task is 789 [marser]\n",
      "mars - INFO   - 20200403.151425 - Request cost: 248 fields, 42.169 Mbytes online, nodes: mvr02 mvr06 [marser]\n",
      "mars - INFO   - 20200403.151425 - Transfering 44217408 bytes\n",
      "mars - INFO   - 20200403.151427 - 248 fields retrieved from 'marser'\n",
      "mars - INFO   - 20200403.151427 - 248 fields have been interpolated\n",
      "mars - INFO   - 20200403.151427 - Request time:  wall: 22 sec  cpu: 1 sec\n",
      "mars - INFO   - 20200403.151427 -   Read from network: 42.17 Mbyte(s) in < 1 sec [62.83 Mbyte/sec]\n",
      "mars - INFO   - 20200403.151427 -   Processing in marser: wall: 20 sec\n",
      "mars - INFO   - 20200403.151427 -   Visiting marser: wall: 22 sec cpu: 2 sec\n",
      "mars - INFO   - 20200403.151427 -   Post-processing: wall: 1 sec cpu: 1 sec\n",
      "mars - INFO   - 20200403.151427 -   Writing to target file: 1.14 Mbyte(s) in < 1 sec [171.14 Mbyte/sec]\n",
      "\n",
      "mars - INFO   - 20200403.151427 - Processing request 6\n",
      "\n",
      "RETRIEVE,\n",
      "    CLASS      = EI,\n",
      "    TYPE       = AN,\n",
      "    STREAM     = OPER,\n",
      "    EXPVER     = 0001,\n",
      "    REPRES     = SH,\n",
      "    LEVTYPE    = SFC,\n",
      "    PARAM      = 167.128/236.128,\n",
      "    TIME       = 0000/0600/1200/1800,\n",
      "    STEP       = 0,\n",
      "    DOMAIN     = G,\n",
      "    RESOL      = AUTO,\n",
      "    AREA       = 72/-10.5/36.75/25.5,\n",
      "    GRID       = 0.75/0.75,\n",
      "    PADDING    = 0,\n",
      "    DATE       = 20090601/20090602/20090603/20090604/20090605/20090606/20090607/20090608/20090609/20090610/20090611/20090612/20090613/20090614/20090615/20090616/20090617/20090618/20090619/20090620/20090621/20090622/20090623/20090624/20090625/20090626/20090627/20090628/20090629/20090630\n",
      "\n",
      "mars - INFO   - 20200403.151427 - Requesting 240 fields\n",
      "mars - INFO   - 20200403.151427 - Calling mars on 'marser', local port is 50942\n",
      "mars - INFO   - 20200403.151433 - Server task is 401 [marser]\n",
      "mars - INFO   - 20200403.151433 - Request cost: 240 fields, 40.8087 Mbytes online, nodes: mvr02 mvr06 [marser]\n",
      "mars - INFO   - 20200403.151434 - Transfering 42791040 bytes\n",
      "mars - INFO   - 20200403.151437 - 240 fields retrieved from 'marser'\n",
      "mars - INFO   - 20200403.151437 - 240 fields have been interpolated\n",
      "mars - INFO   - 20200403.151437 - Request time:  wall: 10 sec  cpu: 1 sec\n",
      "mars - INFO   - 20200403.151437 -   Read from network: 40.81 Mbyte(s) in 2 sec  [20.67 Mbyte/sec]\n",
      "mars - INFO   - 20200403.151437 -   Processing in marser: wall: 6 sec\n",
      "mars - INFO   - 20200403.151437 -   Visiting marser: wall: 10 sec cpu: 2 sec\n",
      "mars - INFO   - 20200403.151437 -   Post-processing: wall: 1 sec cpu: 1 sec\n",
      "mars - INFO   - 20200403.151437 -   Writing to target file: 1.10 Mbyte(s) in < 1 sec [168.77 Mbyte/sec]\n",
      "\n",
      "mars - INFO   - 20200403.151437 - Processing request 7\n",
      "\n",
      "RETRIEVE,\n",
      "    CLASS      = EI,\n",
      "    TYPE       = AN,\n",
      "    STREAM     = OPER,\n",
      "    EXPVER     = 0001,\n",
      "    REPRES     = SH,\n",
      "    LEVTYPE    = SFC,\n",
      "    PARAM      = 167.128/236.128,\n",
      "    TIME       = 0000/0600/1200/1800,\n",
      "    STEP       = 0,\n",
      "    DOMAIN     = G,\n",
      "    RESOL      = AUTO,\n",
      "    AREA       = 72/-10.5/36.75/25.5,\n",
      "    GRID       = 0.75/0.75,\n",
      "    PADDING    = 0,\n",
      "    DATE       = 20090701/20090702/20090703/20090704/20090705/20090706/20090707/20090708/20090709/20090710/20090711/20090712/20090713/20090714/20090715/20090716/20090717/20090718/20090719/20090720/20090721/20090722/20090723/20090724/20090725/20090726/20090727/20090728/20090729/20090730/20090731\n",
      "\n",
      "mars - INFO   - 20200403.151437 - Requesting 248 fields\n",
      "mars - INFO   - 20200403.151437 - Calling mars on 'marser', local port is 54261\n",
      "mars - INFO   - 20200403.151438 - Server task is 96 [marser]\n",
      "mars - INFO   - 20200403.151438 - Request cost: 248 fields, 42.169 Mbytes online, nodes: mvr02 mvr06 [marser]\n",
      "mars - INFO   - 20200403.151438 - Transfering 44217408 bytes\n",
      "mars - INFO   - 20200403.151443 - 248 fields retrieved from 'marser'\n",
      "mars - INFO   - 20200403.151443 - 248 fields have been interpolated\n",
      "mars - INFO   - 20200403.151443 - Request time:  wall: 6 sec  cpu: 2 sec\n",
      "mars - INFO   - 20200403.151443 -   Read from network: 42.17 Mbyte(s) in 2 sec  [17.22 Mbyte/sec]\n",
      "mars - INFO   - 20200403.151443 -   Processing in marser: wall: 1 sec\n",
      "mars - INFO   - 20200403.151443 -   Visiting marser: wall: 6 sec cpu: 2 sec\n",
      "mars - INFO   - 20200403.151443 -   Post-processing: wall: 2 sec cpu: 2 sec\n",
      "mars - INFO   - 20200403.151443 -   Writing to target file: 1.14 Mbyte(s) in < 1 sec [108.29 Mbyte/sec]\n",
      "\n",
      "mars - INFO   - 20200403.151443 - Processing request 8\n",
      "\n",
      "RETRIEVE,\n",
      "    CLASS      = EI,\n",
      "    TYPE       = AN,\n",
      "    STREAM     = OPER,\n",
      "    EXPVER     = 0001,\n",
      "    REPRES     = SH,\n",
      "    LEVTYPE    = SFC,\n",
      "    PARAM      = 167.128/236.128,\n",
      "    TIME       = 0000/0600/1200/1800,\n",
      "    STEP       = 0,\n",
      "    DOMAIN     = G,\n",
      "    RESOL      = AUTO,\n",
      "    AREA       = 72/-10.5/36.75/25.5,\n",
      "    GRID       = 0.75/0.75,\n",
      "    PADDING    = 0,\n",
      "    DATE       = 20090801/20090802/20090803/20090804/20090805/20090806/20090807/20090808/20090809/20090810/20090811/20090812/20090813/20090814/20090815/20090816/20090817/20090818/20090819/20090820/20090821/20090822/20090823/20090824/20090825/20090826/20090827/20090828/20090829/20090830/20090831\n",
      "\n",
      "mars - INFO   - 20200403.151443 - Requesting 248 fields\n",
      "mars - INFO   - 20200403.151443 - Calling mars on 'marser', local port is 55166\n",
      "mars - INFO   - 20200403.151447 - Server task is 96 [marser]\n",
      "mars - INFO   - 20200403.151447 - Request cost: 248 fields, 42.169 Mbytes online, nodes: mvr02 mvr06 [marser]\n",
      "mars - INFO   - 20200403.151447 - Transfering 44217408 bytes\n",
      "mars - INFO   - 20200403.151449 - 248 fields retrieved from 'marser'\n",
      "mars - INFO   - 20200403.151449 - 248 fields have been interpolated\n",
      "mars - INFO   - 20200403.151449 - Request time:  wall: 6 sec  cpu: 1 sec\n",
      "mars - INFO   - 20200403.151449 -   Read from network: 42.17 Mbyte(s) in < 1 sec [66.02 Mbyte/sec]\n",
      "mars - INFO   - 20200403.151449 -   Processing in marser: wall: 4 sec\n",
      "mars - INFO   - 20200403.151449 -   Visiting marser: wall: 6 sec cpu: 1 sec\n",
      "mars - INFO   - 20200403.151449 -   Post-processing: wall: 1 sec cpu: 1 sec\n",
      "mars - INFO   - 20200403.151449 -   Writing to target file: 1.14 Mbyte(s) in < 1 sec [171.74 Mbyte/sec]\n",
      "\n",
      "mars - INFO   - 20200403.151449 - Processing request 9\n",
      "\n",
      "RETRIEVE,\n",
      "    CLASS      = EI,\n",
      "    TYPE       = AN,\n",
      "    STREAM     = OPER,\n",
      "    EXPVER     = 0001,\n",
      "    REPRES     = SH,\n",
      "    LEVTYPE    = SFC,\n",
      "    PARAM      = 167.128/236.128,\n",
      "    TIME       = 0000/0600/1200/1800,\n",
      "    STEP       = 0,\n",
      "    DOMAIN     = G,\n",
      "    RESOL      = AUTO,\n",
      "    AREA       = 72/-10.5/36.75/25.5,\n",
      "    GRID       = 0.75/0.75,\n",
      "    PADDING    = 0,\n",
      "    DATE       = 20090901/20090902/20090903/20090904/20090905/20090906/20090907/20090908/20090909/20090910/20090911/20090912/20090913/20090914/20090915/20090916/20090917/20090918/20090919/20090920/20090921/20090922/20090923/20090924/20090925/20090926/20090927/20090928/20090929/20090930\n",
      "\n",
      "mars - INFO   - 20200403.151449 - Requesting 240 fields\n",
      "mars - INFO   - 20200403.151449 - Calling mars on 'marser', local port is 38580\n",
      "mars - INFO   - 20200403.151450 - Server task is 472 [marser]\n",
      "mars - INFO   - 20200403.151450 - Request cost: 240 fields, 40.8087 Mbytes online, nodes: mvr02 mvr06 [marser]\n",
      "mars - INFO   - 20200403.151450 - Transfering 42791040 bytes\n",
      "mars - INFO   - 20200403.151453 - 240 fields retrieved from 'marser'\n",
      "mars - INFO   - 20200403.151453 - 240 fields have been interpolated\n",
      "mars - INFO   - 20200403.151453 - Request time:  wall: 4 sec  cpu: 1 sec\n",
      "mars - INFO   - 20200403.151453 -   Read from network: 40.81 Mbyte(s) in 2 sec  [17.84 Mbyte/sec]\n",
      "mars - INFO   - 20200403.151453 -   Visiting marser: wall: 4 sec cpu: 1 sec\n",
      "mars - INFO   - 20200403.151453 -   Post-processing: wall: 1 sec cpu: 1 sec\n",
      "mars - INFO   - 20200403.151453 -   Writing to target file: 1.10 Mbyte(s) in < 1 sec [164.51 Mbyte/sec]\n",
      "\n",
      "mars - INFO   - 20200403.151453 - Processing request 10\n",
      "\n",
      "RETRIEVE,\n",
      "    CLASS      = EI,\n",
      "    TYPE       = AN,\n",
      "    STREAM     = OPER,\n",
      "    EXPVER     = 0001,\n",
      "    REPRES     = SH,\n",
      "    LEVTYPE    = SFC,\n",
      "    PARAM      = 167.128/236.128,\n",
      "    TIME       = 0000/0600/1200/1800,\n",
      "    STEP       = 0,\n",
      "    DOMAIN     = G,\n",
      "    RESOL      = AUTO,\n",
      "    AREA       = 72/-10.5/36.75/25.5,\n",
      "    GRID       = 0.75/0.75,\n",
      "    PADDING    = 0,\n",
      "    DATE       = 20091001/20091002/20091003/20091004/20091005/20091006/20091007/20091008/20091009/20091010/20091011/20091012/20091013/20091014/20091015/20091016/20091017/20091018/20091019/20091020/20091021/20091022/20091023/20091024/20091025/20091026/20091027/20091028/20091029/20091030/20091031\n",
      "\n",
      "mars - INFO   - 20200403.151453 - Requesting 248 fields\n",
      "mars - INFO   - 20200403.151453 - Calling mars on 'marser', local port is 48735\n",
      "mars - INFO   - 20200403.151454 - Server task is 845 [marser]\n",
      "mars - INFO   - 20200403.151454 - Request cost: 248 fields, 42.169 Mbytes online, nodes: mvr02 mvr06 [marser]\n",
      "mars - INFO   - 20200403.151454 - Transfering 44217408 bytes\n",
      "mars - INFO   - 20200403.151457 - 248 fields retrieved from 'marser'\n",
      "mars - INFO   - 20200403.151457 - 248 fields have been interpolated\n",
      "mars - INFO   - 20200403.151457 - Request time:  wall: 4 sec  cpu: 1 sec\n",
      "mars - INFO   - 20200403.151457 -   Read from network: 42.17 Mbyte(s) in 1 sec  [28.93 Mbyte/sec]\n",
      "mars - INFO   - 20200403.151457 -   Visiting marser: wall: 4 sec cpu: 1 sec\n",
      "mars - INFO   - 20200403.151457 -   Post-processing: wall: 1 sec cpu: 1 sec\n",
      "mars - INFO   - 20200403.151457 -   Writing to target file: 1.14 Mbyte(s) in < 1 sec [181.77 Mbyte/sec]\n",
      "\n",
      "mars - INFO   - 20200403.151457 - Processing request 11\n",
      "\n",
      "RETRIEVE,\n",
      "    CLASS      = EI,\n",
      "    TYPE       = AN,\n",
      "    STREAM     = OPER,\n",
      "    EXPVER     = 0001,\n",
      "    REPRES     = SH,\n",
      "    LEVTYPE    = SFC,\n",
      "    PARAM      = 167.128/236.128,\n",
      "    TIME       = 0000/0600/1200/1800,\n",
      "    STEP       = 0,\n",
      "    DOMAIN     = G,\n",
      "    RESOL      = AUTO,\n",
      "    AREA       = 72/-10.5/36.75/25.5,\n",
      "    GRID       = 0.75/0.75,\n",
      "    PADDING    = 0,\n",
      "    DATE       = 20091101/20091102/20091103/20091104/20091105/20091106/20091107/20091108/20091109/20091110/20091111/20091112/20091113/20091114/20091115/20091116/20091117/20091118/20091119/20091120/20091121/20091122/20091123/20091124/20091125/20091126/20091127/20091128/20091129/20091130\n",
      "\n",
      "mars - INFO   - 20200403.151457 - Requesting 240 fields\n",
      "mars - INFO   - 20200403.151457 - Calling mars on 'marser', local port is 42120\n",
      "mars - INFO   - 20200403.151500 - Server task is 391 [marser]\n",
      "mars - INFO   - 20200403.151500 - Request cost: 240 fields, 40.8087 Mbytes online, nodes: mvr02 mvr06 [marser]\n",
      "mars - INFO   - 20200403.151500 - Transfering 42791040 bytes\n",
      "mars - INFO   - 20200403.151503 - 240 fields retrieved from 'marser'\n",
      "mars - INFO   - 20200403.151503 - 240 fields have been interpolated\n",
      "mars - INFO   - 20200403.151503 - Request time:  wall: 6 sec  cpu: 1 sec\n",
      "mars - INFO   - 20200403.151503 -   Read from network: 40.81 Mbyte(s) in 2 sec  [22.34 Mbyte/sec]\n",
      "mars - INFO   - 20200403.151503 -   Processing in marser: wall: 3 sec\n",
      "mars - INFO   - 20200403.151503 -   Visiting marser: wall: 6 sec cpu: 1 sec\n",
      "mars - INFO   - 20200403.151503 -   Post-processing: wall: 1 sec cpu: 1 sec\n",
      "mars - INFO   - 20200403.151503 -   Writing to target file: 1.10 Mbyte(s) in < 1 sec [169.08 Mbyte/sec]\n",
      "\n",
      "mars - INFO   - 20200403.151503 - Processing request 12\n",
      "\n",
      "RETRIEVE,\n",
      "    CLASS      = EI,\n",
      "    TYPE       = AN,\n",
      "    STREAM     = OPER,\n",
      "    EXPVER     = 0001,\n",
      "    REPRES     = SH,\n",
      "    LEVTYPE    = SFC,\n",
      "    PARAM      = 167.128/236.128,\n",
      "    TIME       = 0000/0600/1200/1800,\n",
      "    STEP       = 0,\n",
      "    DOMAIN     = G,\n",
      "    RESOL      = AUTO,\n",
      "    AREA       = 72/-10.5/36.75/25.5,\n",
      "    GRID       = 0.75/0.75,\n",
      "    PADDING    = 0,\n",
      "    DATE       = 20091201/20091202/20091203/20091204/20091205/20091206/20091207/20091208/20091209/20091210/20091211/20091212/20091213/20091214/20091215/20091216/20091217/20091218/20091219/20091220/20091221/20091222/20091223/20091224/20091225/20091226/20091227/20091228/20091229/20091230/20091231\n",
      "\n",
      "mars - INFO   - 20200403.151503 - Requesting 248 fields\n",
      "mars - INFO   - 20200403.151503 - Calling mars on 'marser', local port is 33648\n",
      "2020-04-03 16:15:24 Request is complete\n",
      "2020-04-03 16:15:24 Transfering 13.1065 Mbytes into /Users/brynmorp/Repos/when2heat/input/weather/ERA_temperature_2009.nc\n",
      "2020-04-03 16:15:24 From https://stream.ecmwf.int/data/atls18/data/data04/scratch/f9/a8/_grib2netcdf-atls18-a562cefde8a29a7288fa0b8b7f9413f7-ULyes7.nc\n",
      "2020-04-03 16:16:00 Transfer rate 363.805 Kbytes/s\n"
     ]
    }
   ],
   "source": [
    "download.wind(input_path)\n",
    "download.temperatures(input_path, year_start, year_end)"
   ]
  },
  {
   "cell_type": "markdown",
   "metadata": {},
   "source": [
    "## Population data\n",
    "As mentioned above, population data is downloaded from [EUROSTAT](http://ec.europa.eu/eurostat/web/gisco/geodata/reference-data/population-distribution-demography/geostat)."
   ]
  },
  {
   "cell_type": "code",
   "execution_count": 13,
   "metadata": {},
   "outputs": [],
   "source": [
    "download.population(input_path)"
   ]
  },
  {
   "cell_type": "markdown",
   "metadata": {},
   "source": [
    "<a id=pre></a>\n",
    "# 3. Preprocessing\n",
    "Population and weather data is preprocessed. This takes around 10 minutes to run."
   ]
  },
  {
   "cell_type": "markdown",
   "metadata": {},
   "source": [
    "## Re-mapping population data\n",
    "The population data from Eurostat features a 1 km² grid, which country-by-country transformed to the 0.75 x 0.75° grid of the weather data in the following. Interim results are saved/loaded from disk."
   ]
  },
  {
   "cell_type": "code",
   "execution_count": 23,
   "metadata": {
    "scrolled": true
   },
   "outputs": [
    {
     "name": "stdout",
     "output_type": "stream",
     "text": [
      "AUT_1\n",
      "/Users/brynmorp/Repos/when2heat/interim/population_AUT_1 already exists and is read from disk.\n",
      "AUT_2\n",
      "/Users/brynmorp/Repos/when2heat/interim/population_AUT_2 already exists and is read from disk.\n",
      "AUT_3\n",
      "/Users/brynmorp/Repos/when2heat/interim/population_AUT_3 already exists and is read from disk.\n",
      "BEL\n",
      "/Users/brynmorp/Repos/when2heat/interim/population_BEL already exists and is read from disk.\n",
      "Plot of the re-mapped population data of AUT_1 (first selected country) for visual inspection:\n"
     ]
    },
    {
     "data": {
      "image/png": "[encoded data removed]",
      "text/plain": [
       "<Figure size 432x288 with 1 Axes>"
      ]
     },
     "metadata": {
      "needs_background": "light"
     },
     "output_type": "display_data"
    }
   ],
   "source": [
    "mapped_population = preprocess.map_population(input_path, regions, interim_path)"
   ]
  },
  {
   "cell_type": "code",
   "execution_count": 24,
   "metadata": {},
   "outputs": [
    {
     "data": {
      "text/plain": [
       "index_right\n",
       "(46.5, 10.5)          35\n",
       "(46.5, 11.25)        541\n",
       "(46.5, 12.0)         633\n",
       "(46.5, 12.75)      51054\n",
       "(46.5, 13.5)      149156\n",
       "(46.5, 14.25)     218953\n",
       "(47.25, 9.75)     360202\n",
       "(47.25, 10.5)     106029\n",
       "(47.25, 11.25)    315669\n",
       "(47.25, 12.0)     203959\n",
       "(47.25, 12.75)    138622\n",
       "(47.25, 13.5)     118446\n",
       "(47.25, 14.25)       695\n",
       "(48.0, 12.0)       10504\n",
       "(48.0, 12.75)     266645\n",
       "(48.0, 13.5)       65051\n",
       "Name: TOT_P, dtype: int64"
      ]
     },
     "execution_count": 24,
     "metadata": {},
     "output_type": "execute_result"
    }
   ],
   "source": [
    "mapped_population['AUT_1']"
   ]
  },
  {
   "cell_type": "markdown",
   "metadata": {},
   "source": [
    "## Preparing weather data\n",
    "\n",
    "The temporal resolution of the weather data is changed as follows:\n",
    "* Temperatures (air and soil): from six-hours to one hour\n",
    "* Wind: from monthly to the average of all heating periods from 1979 to 2016\n",
    "\n",
    "To speed up the calculation, all weather data is filtered by the selected countries."
   ]
  },
  {
   "cell_type": "code",
   "execution_count": 25,
   "metadata": {},
   "outputs": [
    {
     "name": "stdout",
     "output_type": "stream",
     "text": [
      "Plot of the wind averages for visual inspection:\n"
     ]
    },
    {
     "data": {
      "image/png": "[encoded data removed]",
      "text/plain": [
       "<Figure size 432x288 with 1 Axes>"
      ]
     },
     "metadata": {
      "needs_background": "light"
     },
     "output_type": "display_data"
    }
   ],
   "source": [
    "wind = preprocess.wind(input_path, mapped_population)"
   ]
  },
  {
   "cell_type": "code",
   "execution_count": 26,
   "metadata": {},
   "outputs": [],
   "source": [
    "temperature = preprocess.temperature(input_path, year_start, year_end, mapped_population)"
   ]
  },
  {
   "cell_type": "markdown",
   "metadata": {},
   "source": [
    "<a id=demand></a>\n",
    "# 4. Heat demand time series\n",
    "For all years and countries, the calculation of heat demand time series takes around 20 minutes to run."
   ]
  },
  {
   "cell_type": "markdown",
   "metadata": {},
   "source": [
    "## Reference temperature\n",
    "\n",
    "To capture the thermal inertia of buildings, the daily reference temperature is calculated as the weighted mean of the ambient air temperature of the actual and the three preceding days. "
   ]
  },
  {
   "cell_type": "code",
   "execution_count": 27,
   "metadata": {},
   "outputs": [],
   "source": [
    "reference_temperature = demand.reference_temperature(temperature['air'])"
   ]
  },
  {
   "cell_type": "markdown",
   "metadata": {},
   "source": [
    "## Daily demand\n",
    "\n",
    "Daily demand factors are derived from the reference temperatures using profile functions as described in [BDEW](https://www.enwg-veroeffentlichungen.de/badtoelz/Netze/Gasnetz/Netzbeschreibung/LF-Abwicklung-von-Standardlastprofilen-Gas-20110630-final.pdf)."
   ]
  },
  {
   "cell_type": "code",
   "execution_count": 28,
   "metadata": {},
   "outputs": [],
   "source": [
    "daily_parameters = read.daily_parameters(input_path)"
   ]
  },
  {
   "cell_type": "code",
   "execution_count": 29,
   "metadata": {},
   "outputs": [],
   "source": [
    "daily_heat = demand.daily_heat(reference_temperature, \n",
    "                               wind, \n",
    "                               daily_parameters)"
   ]
  },
  {
   "cell_type": "code",
   "execution_count": 30,
   "metadata": {},
   "outputs": [],
   "source": [
    "daily_water = demand.daily_water(reference_temperature,\n",
    "                                 wind,\n",
    "                                 daily_parameters)"
   ]
  },
  {
   "cell_type": "markdown",
   "metadata": {},
   "source": [
    "## Hourly demand\n",
    "\n",
    "Hourly damand factors are calculated from the daily demand based on hourly factors from [BGW](http://www.gwb-netz.de/wa_files/05_bgw_leitfaden_lastprofile_56550.pdf)."
   ]
  },
  {
   "cell_type": "code",
   "execution_count": 31,
   "metadata": {},
   "outputs": [],
   "source": [
    "hourly_parameters = read.hourly_parameters(input_path)"
   ]
  },
  {
   "cell_type": "code",
   "execution_count": 32,
   "metadata": {},
   "outputs": [],
   "source": [
    "hourly_heat = demand.hourly_heat(daily_heat,\n",
    "                                 reference_temperature, \n",
    "                                 hourly_parameters)"
   ]
  },
  {
   "cell_type": "code",
   "execution_count": 33,
   "metadata": {},
   "outputs": [],
   "source": [
    "hourly_water = demand.hourly_water(daily_water,\n",
    "                                   reference_temperature, \n",
    "                                   hourly_parameters)"
   ]
  },
  {
   "cell_type": "code",
   "execution_count": 34,
   "metadata": {},
   "outputs": [],
   "source": [
    "hourly_space = (hourly_heat - hourly_water).clip(lower=0)"
   ]
  },
  {
   "cell_type": "markdown",
   "metadata": {},
   "source": [
    "## Weight and scale\n",
    "The spatial time series are weighted with the population and normalized to 1 TWh yearly demand each. Years included in the building database are scaled accordingly. The time series not spatially aggregated yet because spatial time series are needed for COP calculation."
   ]
  },
  {
   "cell_type": "code",
   "execution_count": null,
   "metadata": {},
   "outputs": [],
   "source": [
    "building_database = read.building_database(input_path)"
   ]
  },
  {
   "cell_type": "code",
   "execution_count": null,
   "metadata": {},
   "outputs": [],
   "source": [
    "spatial_space = demand.finishing(hourly_space, mapped_population, building_database['space'])"
   ]
  },
  {
   "cell_type": "code",
   "execution_count": null,
   "metadata": {},
   "outputs": [],
   "source": [
    "spatial_water = demand.finishing(hourly_water, mapped_population, building_database['water'])"
   ]
  },
  {
   "cell_type": "markdown",
   "metadata": {},
   "source": [
    "## Safepoint\n",
    "\n",
    "The following cells can be used to save and reload the spatial hourly time series."
   ]
  },
  {
   "cell_type": "code",
   "execution_count": null,
   "metadata": {},
   "outputs": [],
   "source": [
    "spatial_space.to_pickle(os.path.join(interim_path, 'spatial_space'))\n",
    "spatial_water.to_pickle(os.path.join(interim_path, 'spatial_water'))"
   ]
  },
  {
   "cell_type": "code",
   "execution_count": null,
   "metadata": {},
   "outputs": [],
   "source": [
    "spatial_space = pd.read_pickle(os.path.join(interim_path, 'spatial_space'))[countries]\n",
    "spatial_water = pd.read_pickle(os.path.join(interim_path, 'spatial_water'))[countries]"
   ]
  },
  {
   "cell_type": "markdown",
   "metadata": {},
   "source": [
    "## Aggregate and combine\n",
    "All heat demand time series are aggregated country-wise and combined into one data frame."
   ]
  },
  {
   "cell_type": "code",
   "execution_count": null,
   "metadata": {},
   "outputs": [],
   "source": [
    "final_heat = demand.combine(spatial_space, spatial_water)"
   ]
  },
  {
   "cell_type": "markdown",
   "metadata": {},
   "source": [
    "<a id=cop></a>\n",
    "# 5. COP time series\n",
    "For all years and countries, the calculation of the coefficient of performance (COP) of heat pumps takes around 5 minutes to run."
   ]
  },
  {
   "cell_type": "markdown",
   "metadata": {},
   "source": [
    "## Source temperature \n",
    "For air-sourced, ground-sources and groundwater-sourced heat pumps (ASHP, GSHP and WSHP), the relevant heat source temperatures are calculated."
   ]
  },
  {
   "cell_type": "code",
   "execution_count": null,
   "metadata": {},
   "outputs": [],
   "source": [
    "source_temperature = cop.source_temperature(temperature)"
   ]
  },
  {
   "cell_type": "markdown",
   "metadata": {},
   "source": [
    "## Sink temperatures\n",
    "Heat sink temperatures, i.e. the temperature level at which the heat pumps have to provide heat, are calculated for floor heating, radiator heating and warm water."
   ]
  },
  {
   "cell_type": "code",
   "execution_count": null,
   "metadata": {},
   "outputs": [],
   "source": [
    "sink_temperature = cop.sink_temperature(temperature)"
   ]
  },
  {
   "cell_type": "markdown",
   "metadata": {},
   "source": [
    "## COP\n",
    "The COP is derived from the temperature difference between heat sources and sinks using COP curves."
   ]
  },
  {
   "cell_type": "code",
   "execution_count": null,
   "metadata": {},
   "outputs": [],
   "source": [
    "cop_parameters = read.cop_parameters(input_path)"
   ]
  },
  {
   "cell_type": "code",
   "execution_count": null,
   "metadata": {},
   "outputs": [],
   "source": [
    "spatial_cop = cop.spatial_cop(source_temperature, sink_temperature, cop_parameters)"
   ]
  },
  {
   "cell_type": "markdown",
   "metadata": {},
   "source": [
    "## Safepoint\n",
    "\n",
    "The following cells can be used to save and reload the spatial hourly time series."
   ]
  },
  {
   "cell_type": "code",
   "execution_count": null,
   "metadata": {},
   "outputs": [],
   "source": [
    "spatial_cop.to_pickle(os.path.join(interim_path, 'spatial_cop'))"
   ]
  },
  {
   "cell_type": "code",
   "execution_count": null,
   "metadata": {},
   "outputs": [],
   "source": [
    "spatial_cop = pd.read_pickle(os.path.join(interim_path, 'spatial_cop'))[countries]"
   ]
  },
  {
   "cell_type": "markdown",
   "metadata": {},
   "source": [
    "## Aggregating and correction\n",
    "The spatial COP time series are weighted with the spatial heat demand and aggregated into national time series. The national time series are corrected for part-load losses."
   ]
  },
  {
   "cell_type": "code",
   "execution_count": null,
   "metadata": {},
   "outputs": [],
   "source": [
    "final_cop = cop.finishing(spatial_cop, spatial_space, spatial_water)"
   ]
  },
  {
   "cell_type": "markdown",
   "metadata": {},
   "source": [
    "## COP averages\n",
    "COP averages (performance factors) are calculated and saved to disk for validation purposes."
   ]
  },
  {
   "cell_type": "code",
   "execution_count": null,
   "metadata": {},
   "outputs": [],
   "source": [
    "cop.validation(final_cop, final_heat, interim_path, 'corrected')"
   ]
  },
  {
   "cell_type": "code",
   "execution_count": null,
   "metadata": {},
   "outputs": [],
   "source": [
    "cop.validation(cop.finishing(spatial_cop, spatial_space, spatial_water, correction=1),\n",
    "               final_heat, interim_path, \"uncorrected\")"
   ]
  },
  {
   "cell_type": "markdown",
   "metadata": {},
   "source": [
    "<a id=write></a>\n",
    "# 6. Writing\n",
    "For data and metadata, this takes around 5 minutes to run."
   ]
  },
  {
   "cell_type": "markdown",
   "metadata": {},
   "source": [
    "## Data\n",
    "As for the OPSD \"Time Series\" package, data are provided in three different \"shapes\":\n",
    "\n",
    "* SingleIndex (easy to read for humans, compatible with datapackage standard, small file size)\n",
    "  * Fileformat: CSV, SQLite\n",
    "* MultiIndex (easy to read into GAMS, not compatible with datapackage standard, small file size)\n",
    "  * Fileformat: CSV, Excel\n",
    "* Stacked (compatible with data package standard, large file size, many rows, too many for Excel)\n",
    "  * Fileformat: CSV"
   ]
  },
  {
   "cell_type": "markdown",
   "metadata": {},
   "source": [
    "The different shapes are created before they are saved to files."
   ]
  },
  {
   "cell_type": "code",
   "execution_count": null,
   "metadata": {},
   "outputs": [],
   "source": [
    "shaped_dfs = write.shaping(final_heat, final_cop)"
   ]
  },
  {
   "cell_type": "markdown",
   "metadata": {},
   "source": [
    "Write data to an SQL-database, ..."
   ]
  },
  {
   "cell_type": "code",
   "execution_count": null,
   "metadata": {},
   "outputs": [],
   "source": [
    "write.to_sql(shaped_dfs, output_path, home_path)"
   ]
  },
  {
   "cell_type": "markdown",
   "metadata": {},
   "source": [
    "and to CSV."
   ]
  },
  {
   "cell_type": "code",
   "execution_count": null,
   "metadata": {},
   "outputs": [],
   "source": [
    "write.to_csv(shaped_dfs, output_path)"
   ]
  },
  {
   "cell_type": "markdown",
   "metadata": {},
   "source": [
    "Writing to Excel takes extremely long. As a workaround, a copy of the multi-indexed data is writtten to CSV and manually converted to Excel."
   ]
  },
  {
   "cell_type": "markdown",
   "metadata": {},
   "source": [
    "## Metadata\n",
    "The metadata is reported in a JSON file."
   ]
  },
  {
   "cell_type": "code",
   "execution_count": null,
   "metadata": {},
   "outputs": [],
   "source": [
    "metadata.make_json(shaped_dfs, version, changes, year_start, year_end, output_path)"
   ]
  },
  {
   "cell_type": "markdown",
   "metadata": {},
   "source": [
    "## Copy input data"
   ]
  },
  {
   "cell_type": "code",
   "execution_count": null,
   "metadata": {},
   "outputs": [],
   "source": [
    "shutil.copytree(input_path, os.path.join(output_path, 'original_data'))"
   ]
  },
  {
   "cell_type": "markdown",
   "metadata": {},
   "source": [
    "## Checksums"
   ]
  },
  {
   "cell_type": "code",
   "execution_count": null,
   "metadata": {},
   "outputs": [],
   "source": [
    "metadata.checksums(output_path, home_path)"
   ]
  }
 ],
 "metadata": {
  "@webio": {
   "lastCommId": null,
   "lastKernelId": null
  },
  "kernelspec": {
   "display_name": "Python [conda env:when2heat]",
   "language": "python",
   "name": "conda-env-when2heat-py"
  },
  "language_info": {
   "codemirror_mode": {
    "name": "ipython",
    "version": 3
   },
   "file_extension": ".py",
   "mimetype": "text/x-python",
   "name": "python",
   "nbconvert_exporter": "python",
   "pygments_lexer": "ipython3",
   "version": "3.7.2"
  }
 },
 "nbformat": 4,
 "nbformat_minor": 4
}
